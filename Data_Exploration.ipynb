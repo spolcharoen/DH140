{
 "cells": [
  {
   "cell_type": "markdown",
   "metadata": {},
   "source": [
    "# DH140 Individual Assignment: Data Exploration\n",
    "\n",
    " by Pawan (Sine) Polcharoen\n",
    " \n",
    " In this assignment, I will be exploring a spatial data set containing information on NYC Subway Stops. The data set is generated from the static data developer feeds published by the MTA. Released in November 2020, the data represents normal service that resumed following the height of the first wave of the COVID-19 pandemic in spring 2020. Using the `geopandas` library and various commands, I will be exploring the structure of the data set and what information it holds."
   ]
  },
  {
   "cell_type": "markdown",
   "metadata": {},
   "source": [
    "### Loading the Data\n",
    "First, I am starting by importing a new module `geopandas`."
   ]
  },
  {
   "cell_type": "code",
   "execution_count": 9,
   "metadata": {},
   "outputs": [],
   "source": [
    "import geopandas as gpd"
   ]
  },
  {
   "cell_type": "markdown",
   "metadata": {},
   "source": [
    "Next, I am importing my data and setting it to the object `subway`. It is a shapefile downloaded from [here](https://www.baruch.cuny.edu/confluence/pages/viewpage.action?pageId=28016896)."
   ]
  },
  {
   "cell_type": "code",
   "execution_count": 46,
   "metadata": {},
   "outputs": [],
   "source": [
    "subway = gpd.read_file('data/stops_nyc_subway_nov2020.shp')"
   ]
  },
  {
   "cell_type": "markdown",
   "metadata": {},
   "source": [
    "### Understanding the Data Set\n",
    "What's the data type? I will use the `type` command to find out."
   ]
  },
  {
   "cell_type": "code",
   "execution_count": 47,
   "metadata": {},
   "outputs": [
    {
     "data": {
      "text/plain": [
       "geopandas.geodataframe.GeoDataFrame"
      ]
     },
     "execution_count": 47,
     "metadata": {},
     "output_type": "execute_result"
    }
   ],
   "source": [
    "type(subway)"
   ]
  },
  {
   "cell_type": "markdown",
   "metadata": {},
   "source": [
    "It is a data frame!\n",
    "\n",
    "How many observations and variables are there? I will use the `shape` command to find out."
   ]
  },
  {
   "cell_type": "code",
   "execution_count": 48,
   "metadata": {},
   "outputs": [
    {
     "data": {
      "text/plain": [
       "(493, 10)"
      ]
     },
     "execution_count": 48,
     "metadata": {},
     "output_type": "execute_result"
    }
   ],
   "source": [
    "subway.shape"
   ]
  },
  {
   "cell_type": "markdown",
   "metadata": {},
   "source": [
    "493 observations and 10 variables.\n",
    "\n",
    "I am now using the command `info` to get more information on the data frame."
   ]
  },
  {
   "cell_type": "code",
   "execution_count": 50,
   "metadata": {
    "scrolled": true
   },
   "outputs": [
    {
     "name": "stdout",
     "output_type": "stream",
     "text": [
      "<class 'geopandas.geodataframe.GeoDataFrame'>\n",
      "RangeIndex: 493 entries, 0 to 492\n",
      "Data columns (total 10 columns):\n",
      " #   Column     Non-Null Count  Dtype   \n",
      "---  ------     --------------  -----   \n",
      " 0   stop_id    493 non-null    object  \n",
      " 1   stop_name  493 non-null    object  \n",
      " 2   stop_lat   493 non-null    float64 \n",
      " 3   stop_lon   493 non-null    float64 \n",
      " 4   trains     493 non-null    object  \n",
      " 5   structure  493 non-null    object  \n",
      " 6   stop_id2   4 non-null      object  \n",
      " 7   GEOID      493 non-null    object  \n",
      " 8   NAMELSAD   493 non-null    object  \n",
      " 9   geometry   493 non-null    geometry\n",
      "dtypes: float64(2), geometry(1), object(7)\n",
      "memory usage: 38.6+ KB\n"
     ]
    }
   ],
   "source": [
    "subway.info()"
   ]
  },
  {
   "cell_type": "markdown",
   "metadata": {},
   "source": [
    "Remembering that pandas datatypes are slightly different from raw python datatypes, I now know that the data currently contains strings (objects) and floats (float64). Furthermore, that command gave me a concise outline of all the variables contained in the data set, as well as how many observations are in each column, and their data type.\n",
    "\n",
    "Next, I am using the `head` and `tail` commands to see the first and last five rows of the data set, respectively."
   ]
  },
  {
   "cell_type": "code",
   "execution_count": 51,
   "metadata": {},
   "outputs": [
    {
     "data": {
      "text/html": [
       "<div>\n",
       "<style scoped>\n",
       "    .dataframe tbody tr th:only-of-type {\n",
       "        vertical-align: middle;\n",
       "    }\n",
       "\n",
       "    .dataframe tbody tr th {\n",
       "        vertical-align: top;\n",
       "    }\n",
       "\n",
       "    .dataframe thead th {\n",
       "        text-align: right;\n",
       "    }\n",
       "</style>\n",
       "<table border=\"1\" class=\"dataframe\">\n",
       "  <thead>\n",
       "    <tr style=\"text-align: right;\">\n",
       "      <th></th>\n",
       "      <th>stop_id</th>\n",
       "      <th>stop_name</th>\n",
       "      <th>stop_lat</th>\n",
       "      <th>stop_lon</th>\n",
       "      <th>trains</th>\n",
       "      <th>structure</th>\n",
       "      <th>stop_id2</th>\n",
       "      <th>GEOID</th>\n",
       "      <th>NAMELSAD</th>\n",
       "      <th>geometry</th>\n",
       "    </tr>\n",
       "  </thead>\n",
       "  <tbody>\n",
       "    <tr>\n",
       "      <th>0</th>\n",
       "      <td>101</td>\n",
       "      <td>Van Cortlandt Park - 242 St</td>\n",
       "      <td>40.889248</td>\n",
       "      <td>-73.898583</td>\n",
       "      <td>1</td>\n",
       "      <td>Elevated</td>\n",
       "      <td>None</td>\n",
       "      <td>36005</td>\n",
       "      <td>Bronx County</td>\n",
       "      <td>POINT (1012291.156 263271.208)</td>\n",
       "    </tr>\n",
       "    <tr>\n",
       "      <th>1</th>\n",
       "      <td>103</td>\n",
       "      <td>238 St</td>\n",
       "      <td>40.884667</td>\n",
       "      <td>-73.900870</td>\n",
       "      <td>1</td>\n",
       "      <td>Elevated</td>\n",
       "      <td>None</td>\n",
       "      <td>36005</td>\n",
       "      <td>Bronx County</td>\n",
       "      <td>POINT (1011660.704 261601.442)</td>\n",
       "    </tr>\n",
       "    <tr>\n",
       "      <th>2</th>\n",
       "      <td>104</td>\n",
       "      <td>231 St</td>\n",
       "      <td>40.878856</td>\n",
       "      <td>-73.904834</td>\n",
       "      <td>1</td>\n",
       "      <td>Elevated</td>\n",
       "      <td>None</td>\n",
       "      <td>36005</td>\n",
       "      <td>Bronx County</td>\n",
       "      <td>POINT (1010566.908 259483.047)</td>\n",
       "    </tr>\n",
       "    <tr>\n",
       "      <th>3</th>\n",
       "      <td>201</td>\n",
       "      <td>Wakefield - 241 St</td>\n",
       "      <td>40.903125</td>\n",
       "      <td>-73.850620</td>\n",
       "      <td>2</td>\n",
       "      <td>Elevated</td>\n",
       "      <td>None</td>\n",
       "      <td>36005</td>\n",
       "      <td>Bronx County</td>\n",
       "      <td>POINT (1025543.988 268346.146)</td>\n",
       "    </tr>\n",
       "    <tr>\n",
       "      <th>4</th>\n",
       "      <td>204</td>\n",
       "      <td>Nereid Av</td>\n",
       "      <td>40.898379</td>\n",
       "      <td>-73.854376</td>\n",
       "      <td>2 5</td>\n",
       "      <td>Elevated</td>\n",
       "      <td>None</td>\n",
       "      <td>36005</td>\n",
       "      <td>Bronx County</td>\n",
       "      <td>POINT (1024508.570 266615.236)</td>\n",
       "    </tr>\n",
       "  </tbody>\n",
       "</table>\n",
       "</div>"
      ],
      "text/plain": [
       "  stop_id                    stop_name   stop_lat   stop_lon trains structure  \\\n",
       "0     101  Van Cortlandt Park - 242 St  40.889248 -73.898583      1  Elevated   \n",
       "1     103                       238 St  40.884667 -73.900870      1  Elevated   \n",
       "2     104                       231 St  40.878856 -73.904834      1  Elevated   \n",
       "3     201           Wakefield - 241 St  40.903125 -73.850620      2  Elevated   \n",
       "4     204                    Nereid Av  40.898379 -73.854376    2 5  Elevated   \n",
       "\n",
       "  stop_id2  GEOID      NAMELSAD                        geometry  \n",
       "0     None  36005  Bronx County  POINT (1012291.156 263271.208)  \n",
       "1     None  36005  Bronx County  POINT (1011660.704 261601.442)  \n",
       "2     None  36005  Bronx County  POINT (1010566.908 259483.047)  \n",
       "3     None  36005  Bronx County  POINT (1025543.988 268346.146)  \n",
       "4     None  36005  Bronx County  POINT (1024508.570 266615.236)  "
      ]
     },
     "execution_count": 51,
     "metadata": {},
     "output_type": "execute_result"
    }
   ],
   "source": [
    "subway.head()"
   ]
  },
  {
   "cell_type": "code",
   "execution_count": 52,
   "metadata": {
    "scrolled": false
   },
   "outputs": [
    {
     "data": {
      "text/html": [
       "<div>\n",
       "<style scoped>\n",
       "    .dataframe tbody tr th:only-of-type {\n",
       "        vertical-align: middle;\n",
       "    }\n",
       "\n",
       "    .dataframe tbody tr th {\n",
       "        vertical-align: top;\n",
       "    }\n",
       "\n",
       "    .dataframe thead th {\n",
       "        text-align: right;\n",
       "    }\n",
       "</style>\n",
       "<table border=\"1\" class=\"dataframe\">\n",
       "  <thead>\n",
       "    <tr style=\"text-align: right;\">\n",
       "      <th></th>\n",
       "      <th>stop_id</th>\n",
       "      <th>stop_name</th>\n",
       "      <th>stop_lat</th>\n",
       "      <th>stop_lon</th>\n",
       "      <th>trains</th>\n",
       "      <th>structure</th>\n",
       "      <th>stop_id2</th>\n",
       "      <th>GEOID</th>\n",
       "      <th>NAMELSAD</th>\n",
       "      <th>geometry</th>\n",
       "    </tr>\n",
       "  </thead>\n",
       "  <tbody>\n",
       "    <tr>\n",
       "      <th>488</th>\n",
       "      <td>S27</td>\n",
       "      <td>Grasmere</td>\n",
       "      <td>40.603117</td>\n",
       "      <td>-74.084087</td>\n",
       "      <td>SIR</td>\n",
       "      <td>Open Cut</td>\n",
       "      <td>None</td>\n",
       "      <td>36085</td>\n",
       "      <td>Richmond County</td>\n",
       "      <td>POINT (960900.408 159019.390)</td>\n",
       "    </tr>\n",
       "    <tr>\n",
       "      <th>489</th>\n",
       "      <td>S28</td>\n",
       "      <td>Clifton</td>\n",
       "      <td>40.621319</td>\n",
       "      <td>-74.071402</td>\n",
       "      <td>SIR</td>\n",
       "      <td>Elevated</td>\n",
       "      <td>None</td>\n",
       "      <td>36085</td>\n",
       "      <td>Richmond County</td>\n",
       "      <td>POINT (964428.231 165647.725)</td>\n",
       "    </tr>\n",
       "    <tr>\n",
       "      <th>490</th>\n",
       "      <td>S29</td>\n",
       "      <td>Stapleton</td>\n",
       "      <td>40.627915</td>\n",
       "      <td>-74.075162</td>\n",
       "      <td>SIR</td>\n",
       "      <td>Elevated</td>\n",
       "      <td>None</td>\n",
       "      <td>36085</td>\n",
       "      <td>Richmond County</td>\n",
       "      <td>POINT (963386.487 168051.695)</td>\n",
       "    </tr>\n",
       "    <tr>\n",
       "      <th>491</th>\n",
       "      <td>S30</td>\n",
       "      <td>Tompkinsville</td>\n",
       "      <td>40.636949</td>\n",
       "      <td>-74.074835</td>\n",
       "      <td>SIR</td>\n",
       "      <td>At Grade</td>\n",
       "      <td>None</td>\n",
       "      <td>36085</td>\n",
       "      <td>Richmond County</td>\n",
       "      <td>POINT (963480.067 171342.945)</td>\n",
       "    </tr>\n",
       "    <tr>\n",
       "      <th>492</th>\n",
       "      <td>S31</td>\n",
       "      <td>St George</td>\n",
       "      <td>40.643748</td>\n",
       "      <td>-74.073643</td>\n",
       "      <td>SIR</td>\n",
       "      <td>Open Cut</td>\n",
       "      <td>None</td>\n",
       "      <td>36085</td>\n",
       "      <td>Richmond County</td>\n",
       "      <td>POINT (963812.981 173819.724)</td>\n",
       "    </tr>\n",
       "  </tbody>\n",
       "</table>\n",
       "</div>"
      ],
      "text/plain": [
       "    stop_id      stop_name   stop_lat   stop_lon trains structure stop_id2  \\\n",
       "488     S27       Grasmere  40.603117 -74.084087    SIR  Open Cut     None   \n",
       "489     S28        Clifton  40.621319 -74.071402    SIR  Elevated     None   \n",
       "490     S29      Stapleton  40.627915 -74.075162    SIR  Elevated     None   \n",
       "491     S30  Tompkinsville  40.636949 -74.074835    SIR  At Grade     None   \n",
       "492     S31      St George  40.643748 -74.073643    SIR  Open Cut     None   \n",
       "\n",
       "     GEOID         NAMELSAD                       geometry  \n",
       "488  36085  Richmond County  POINT (960900.408 159019.390)  \n",
       "489  36085  Richmond County  POINT (964428.231 165647.725)  \n",
       "490  36085  Richmond County  POINT (963386.487 168051.695)  \n",
       "491  36085  Richmond County  POINT (963480.067 171342.945)  \n",
       "492  36085  Richmond County  POINT (963812.981 173819.724)  "
      ]
     },
     "execution_count": 52,
     "metadata": {},
     "output_type": "execute_result"
    }
   ],
   "source": [
    "subway.tail()"
   ]
  },
  {
   "cell_type": "markdown",
   "metadata": {},
   "source": [
    "From these glimpses into the data frame, I am able to better understand the structure of the data, as well as see  what specific observations look like. \n",
    "\n",
    "### Data Exploration\n",
    "First, I am extracting all values for a single column, `NAMELSAD`, using brackets."
   ]
  },
  {
   "cell_type": "code",
   "execution_count": 63,
   "metadata": {},
   "outputs": [
    {
     "data": {
      "text/plain": [
       "0         Bronx County\n",
       "1         Bronx County\n",
       "2         Bronx County\n",
       "3         Bronx County\n",
       "4         Bronx County\n",
       "            ...       \n",
       "488    Richmond County\n",
       "489    Richmond County\n",
       "490    Richmond County\n",
       "491    Richmond County\n",
       "492    Richmond County\n",
       "Name: NAMELSAD, Length: 493, dtype: object"
      ]
     },
     "execution_count": 63,
     "metadata": {},
     "output_type": "execute_result"
    }
   ],
   "source": [
    "subway['NAMELSAD']"
   ]
  },
  {
   "cell_type": "markdown",
   "metadata": {},
   "source": [
    "The output of that command gave me all values within the column names 'NAMELSAD'. I can see that they are counties within NYC.\n",
    "\n",
    "Next, I will use `value_counts` command to see how many stops there are for each county."
   ]
  },
  {
   "cell_type": "code",
   "execution_count": 62,
   "metadata": {},
   "outputs": [
    {
     "data": {
      "text/plain": [
       "Kings County       169\n",
       "New York County    151\n",
       "Queens County       82\n",
       "Bronx County        70\n",
       "Richmond County     21\n",
       "Name: NAMELSAD, dtype: int64"
      ]
     },
     "execution_count": 62,
     "metadata": {},
     "output_type": "execute_result"
    }
   ],
   "source": [
    "subway['NAMELSAD'].value_counts()"
   ]
  },
  {
   "cell_type": "markdown",
   "metadata": {},
   "source": [
    "The output shows me how many stops there are within each county included in the data set.\n",
    "\n",
    "I will now run a query to filter the data so that only observations within Queens County are shown."
   ]
  },
  {
   "cell_type": "code",
   "execution_count": 65,
   "metadata": {},
   "outputs": [
    {
     "data": {
      "text/html": [
       "<div>\n",
       "<style scoped>\n",
       "    .dataframe tbody tr th:only-of-type {\n",
       "        vertical-align: middle;\n",
       "    }\n",
       "\n",
       "    .dataframe tbody tr th {\n",
       "        vertical-align: top;\n",
       "    }\n",
       "\n",
       "    .dataframe thead th {\n",
       "        text-align: right;\n",
       "    }\n",
       "</style>\n",
       "<table border=\"1\" class=\"dataframe\">\n",
       "  <thead>\n",
       "    <tr style=\"text-align: right;\">\n",
       "      <th></th>\n",
       "      <th>stop_id</th>\n",
       "      <th>stop_name</th>\n",
       "      <th>stop_lat</th>\n",
       "      <th>stop_lon</th>\n",
       "      <th>trains</th>\n",
       "      <th>structure</th>\n",
       "      <th>stop_id2</th>\n",
       "      <th>GEOID</th>\n",
       "      <th>NAMELSAD</th>\n",
       "      <th>geometry</th>\n",
       "    </tr>\n",
       "  </thead>\n",
       "  <tbody>\n",
       "    <tr>\n",
       "      <th>390</th>\n",
       "      <td>701</td>\n",
       "      <td>Flushing - Main St</td>\n",
       "      <td>40.759600</td>\n",
       "      <td>-73.830030</td>\n",
       "      <td>7</td>\n",
       "      <td>Subway</td>\n",
       "      <td>None</td>\n",
       "      <td>36081</td>\n",
       "      <td>Queens County</td>\n",
       "      <td>POINT (1031337.260 216065.161)</td>\n",
       "    </tr>\n",
       "    <tr>\n",
       "      <th>391</th>\n",
       "      <td>702</td>\n",
       "      <td>Mets - Willets Point</td>\n",
       "      <td>40.754622</td>\n",
       "      <td>-73.845625</td>\n",
       "      <td>7</td>\n",
       "      <td>Elevated</td>\n",
       "      <td>None</td>\n",
       "      <td>36081</td>\n",
       "      <td>Queens County</td>\n",
       "      <td>POINT (1027020.134 214243.518)</td>\n",
       "    </tr>\n",
       "    <tr>\n",
       "      <th>392</th>\n",
       "      <td>705</td>\n",
       "      <td>111 St</td>\n",
       "      <td>40.751730</td>\n",
       "      <td>-73.855334</td>\n",
       "      <td>7</td>\n",
       "      <td>Elevated</td>\n",
       "      <td>None</td>\n",
       "      <td>36081</td>\n",
       "      <td>Queens County</td>\n",
       "      <td>POINT (1024331.965 213185.279)</td>\n",
       "    </tr>\n",
       "    <tr>\n",
       "      <th>393</th>\n",
       "      <td>706</td>\n",
       "      <td>103 St - Corona Plaza</td>\n",
       "      <td>40.749865</td>\n",
       "      <td>-73.862700</td>\n",
       "      <td>7</td>\n",
       "      <td>Elevated</td>\n",
       "      <td>None</td>\n",
       "      <td>36081</td>\n",
       "      <td>Queens County</td>\n",
       "      <td>POINT (1022292.167 212502.515)</td>\n",
       "    </tr>\n",
       "    <tr>\n",
       "      <th>394</th>\n",
       "      <td>707</td>\n",
       "      <td>Junction Blvd</td>\n",
       "      <td>40.749145</td>\n",
       "      <td>-73.869527</td>\n",
       "      <td>7</td>\n",
       "      <td>Elevated</td>\n",
       "      <td>None</td>\n",
       "      <td>36081</td>\n",
       "      <td>Queens County</td>\n",
       "      <td>POINT (1020400.979 212237.305)</td>\n",
       "    </tr>\n",
       "    <tr>\n",
       "      <th>...</th>\n",
       "      <td>...</td>\n",
       "      <td>...</td>\n",
       "      <td>...</td>\n",
       "      <td>...</td>\n",
       "      <td>...</td>\n",
       "      <td>...</td>\n",
       "      <td>...</td>\n",
       "      <td>...</td>\n",
       "      <td>...</td>\n",
       "      <td>...</td>\n",
       "    </tr>\n",
       "    <tr>\n",
       "      <th>467</th>\n",
       "      <td>R03</td>\n",
       "      <td>Astoria Blvd</td>\n",
       "      <td>40.770258</td>\n",
       "      <td>-73.917843</td>\n",
       "      <td>N W</td>\n",
       "      <td>Elevated</td>\n",
       "      <td>None</td>\n",
       "      <td>36081</td>\n",
       "      <td>Queens County</td>\n",
       "      <td>POINT (1007006.550 219913.211)</td>\n",
       "    </tr>\n",
       "    <tr>\n",
       "      <th>468</th>\n",
       "      <td>R04</td>\n",
       "      <td>30 Av</td>\n",
       "      <td>40.766779</td>\n",
       "      <td>-73.921479</td>\n",
       "      <td>N W</td>\n",
       "      <td>Elevated</td>\n",
       "      <td>None</td>\n",
       "      <td>36081</td>\n",
       "      <td>Queens County</td>\n",
       "      <td>POINT (1006000.556 218644.773)</td>\n",
       "    </tr>\n",
       "    <tr>\n",
       "      <th>469</th>\n",
       "      <td>R05</td>\n",
       "      <td>Broadway</td>\n",
       "      <td>40.761820</td>\n",
       "      <td>-73.925508</td>\n",
       "      <td>N W</td>\n",
       "      <td>Elevated</td>\n",
       "      <td>None</td>\n",
       "      <td>36081</td>\n",
       "      <td>Queens County</td>\n",
       "      <td>POINT (1004886.048 216837.071)</td>\n",
       "    </tr>\n",
       "    <tr>\n",
       "      <th>470</th>\n",
       "      <td>R06</td>\n",
       "      <td>36 Av</td>\n",
       "      <td>40.756804</td>\n",
       "      <td>-73.929575</td>\n",
       "      <td>N W</td>\n",
       "      <td>Elevated</td>\n",
       "      <td>None</td>\n",
       "      <td>36081</td>\n",
       "      <td>Queens County</td>\n",
       "      <td>POINT (1003760.862 215008.647)</td>\n",
       "    </tr>\n",
       "    <tr>\n",
       "      <th>471</th>\n",
       "      <td>R08</td>\n",
       "      <td>39 Av</td>\n",
       "      <td>40.752882</td>\n",
       "      <td>-73.932755</td>\n",
       "      <td>N W</td>\n",
       "      <td>Elevated</td>\n",
       "      <td>None</td>\n",
       "      <td>36081</td>\n",
       "      <td>Queens County</td>\n",
       "      <td>POINT (1002880.957 213579.043)</td>\n",
       "    </tr>\n",
       "  </tbody>\n",
       "</table>\n",
       "<p>82 rows × 10 columns</p>\n",
       "</div>"
      ],
      "text/plain": [
       "    stop_id              stop_name   stop_lat   stop_lon trains structure  \\\n",
       "390     701     Flushing - Main St  40.759600 -73.830030      7    Subway   \n",
       "391     702   Mets - Willets Point  40.754622 -73.845625      7  Elevated   \n",
       "392     705                 111 St  40.751730 -73.855334      7  Elevated   \n",
       "393     706  103 St - Corona Plaza  40.749865 -73.862700      7  Elevated   \n",
       "394     707          Junction Blvd  40.749145 -73.869527      7  Elevated   \n",
       "..      ...                    ...        ...        ...    ...       ...   \n",
       "467     R03           Astoria Blvd  40.770258 -73.917843    N W  Elevated   \n",
       "468     R04                  30 Av  40.766779 -73.921479    N W  Elevated   \n",
       "469     R05               Broadway  40.761820 -73.925508    N W  Elevated   \n",
       "470     R06                  36 Av  40.756804 -73.929575    N W  Elevated   \n",
       "471     R08                  39 Av  40.752882 -73.932755    N W  Elevated   \n",
       "\n",
       "    stop_id2  GEOID       NAMELSAD                        geometry  \n",
       "390     None  36081  Queens County  POINT (1031337.260 216065.161)  \n",
       "391     None  36081  Queens County  POINT (1027020.134 214243.518)  \n",
       "392     None  36081  Queens County  POINT (1024331.965 213185.279)  \n",
       "393     None  36081  Queens County  POINT (1022292.167 212502.515)  \n",
       "394     None  36081  Queens County  POINT (1020400.979 212237.305)  \n",
       "..       ...    ...            ...                             ...  \n",
       "467     None  36081  Queens County  POINT (1007006.550 219913.211)  \n",
       "468     None  36081  Queens County  POINT (1006000.556 218644.773)  \n",
       "469     None  36081  Queens County  POINT (1004886.048 216837.071)  \n",
       "470     None  36081  Queens County  POINT (1003760.862 215008.647)  \n",
       "471     None  36081  Queens County  POINT (1002880.957 213579.043)  \n",
       "\n",
       "[82 rows x 10 columns]"
      ]
     },
     "execution_count": 65,
     "metadata": {},
     "output_type": "execute_result"
    }
   ],
   "source": [
    "subway.query(\"NAMELSAD == 'Queens County'\")"
   ]
  },
  {
   "cell_type": "markdown",
   "metadata": {},
   "source": [
    "Thus, I obtained a resulting data frame containing only subway stops within Queens County."
   ]
  },
  {
   "cell_type": "markdown",
   "metadata": {},
   "source": [
    "### Data Visualization\n",
    "\n",
    "First, I am creating a basic plot using the `plot` command."
   ]
  },
  {
   "cell_type": "code",
   "execution_count": 76,
   "metadata": {},
   "outputs": [
    {
     "data": {
      "text/plain": [
       "<matplotlib.axes._subplots.AxesSubplot at 0x7f911c929fa0>"
      ]
     },
     "execution_count": 76,
     "metadata": {},
     "output_type": "execute_result"
    },
    {
     "data": {
      "image/png": "[encoded data removed]",
      "text/plain": [
       "<Figure size 432x288 with 1 Axes>"
      ]
     },
     "metadata": {
      "needs_background": "light"
     },
     "output_type": "display_data"
    }
   ],
   "source": [
    "subway.plot()"
   ]
  },
  {
   "cell_type": "markdown",
   "metadata": {},
   "source": [
    "The `plot` command gave a simple initial visual using the following `geometry` column within the shapefile.\n",
    "\n",
    "I can see these values by extracting the variable from the data set."
   ]
  },
  {
   "cell_type": "code",
   "execution_count": 77,
   "metadata": {},
   "outputs": [
    {
     "data": {
      "text/plain": [
       "0      POINT (1012291.156 263271.208)\n",
       "1      POINT (1011660.704 261601.442)\n",
       "2      POINT (1010566.908 259483.047)\n",
       "3      POINT (1025543.988 268346.146)\n",
       "4      POINT (1024508.570 266615.236)\n",
       "                    ...              \n",
       "488     POINT (960900.408 159019.390)\n",
       "489     POINT (964428.231 165647.725)\n",
       "490     POINT (963386.487 168051.695)\n",
       "491     POINT (963480.067 171342.945)\n",
       "492     POINT (963812.981 173819.724)\n",
       "Name: geometry, Length: 493, dtype: geometry"
      ]
     },
     "execution_count": 77,
     "metadata": {},
     "output_type": "execute_result"
    }
   ],
   "source": [
    "subway.geometry"
   ]
  },
  {
   "cell_type": "markdown",
   "metadata": {},
   "source": [
    "Using `plot` again, I will add additional arguments to create a more informational and prettier plot. I will be changing the size, color coding the points by the variable `NAMELSAD`, and adding a legend."
   ]
  },
  {
   "cell_type": "code",
   "execution_count": 87,
   "metadata": {},
   "outputs": [
    {
     "data": {
      "text/plain": [
       "<matplotlib.axes._subplots.AxesSubplot at 0x7f911c58a220>"
      ]
     },
     "execution_count": 87,
     "metadata": {},
     "output_type": "execute_result"
    },
    {
     "data": {
      "image/png": "[encoded data removed]",
      "text/plain": [
       "<Figure size 1440x720 with 1 Axes>"
      ]
     },
     "metadata": {
      "needs_background": "light"
     },
     "output_type": "display_data"
    }
   ],
   "source": [
    "subway.plot(\n",
    "            figsize=(20,10),\n",
    "            column = 'NAMELSAD', \n",
    "            legend = True,             \n",
    "            legend_kwds={\n",
    "               'loc': 'upper right',\n",
    "               'bbox_to_anchor':(1.3,1)}) "
   ]
  },
  {
   "cell_type": "markdown",
   "metadata": {},
   "source": [
    "This gives us a better data visualization with more information included. Not only are we seeing how the stops are spread throughout NYC, but also how they are split up by county."
   ]
  }
 ],
 "metadata": {
  "kernelspec": {
   "display_name": "Python 3",
   "language": "python",
   "name": "python3"
  },
  "language_info": {
   "codemirror_mode": {
    "name": "ipython",
    "version": 3
   },
   "file_extension": ".py",
   "mimetype": "text/x-python",
   "name": "python",
   "nbconvert_exporter": "python",
   "pygments_lexer": "ipython3",
   "version": "3.8.5"
  },
  "toc": {
   "base_numbering": 1,
   "nav_menu": {},
   "number_sections": true,
   "sideBar": true,
   "skip_h1_title": false,
   "title_cell": "Table of Contents",
   "title_sidebar": "Contents",
   "toc_cell": false,
   "toc_position": {},
   "toc_section_display": true,
   "toc_window_display": false
  }
 },
 "nbformat": 4,
 "nbformat_minor": 4
}
