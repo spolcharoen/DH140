{
 "cells": [
  {
   "cell_type": "markdown",
   "metadata": {},
   "source": [
    "# Week 4: Individual Coding Assignment\n",
    "by Pawan (Sine) Polcharoen\n",
    "\n",
    "In this notebook, I will be exploring one of the two main data sets for my final group project. The data set contains top Spotify songs by country for the month of May 2020. Additionally, there are characteristic columns that quantify musical aspects of each songs, such as danceability, energy, genre, and etc. In this notebook, I will be creating various charts to help deepen my understanding of the data and the relationships it presents.\n",
    "\n",
    "## Setting Up\n",
    "First, I am importing all the libraries I need for this exploration."
   ]
  },
  {
   "cell_type": "code",
   "execution_count": 98,
   "metadata": {},
   "outputs": [],
   "source": [
    "# to manipulate data\n",
    "import pandas as pd\n",
    "\n",
    "# to manipulate and visualize spatial data\n",
    "import geopandas as gpd\n",
    "\n",
    "# for plotting\n",
    "import matplotlib.pyplot as plt"
   ]
  },
  {
   "cell_type": "markdown",
   "metadata": {},
   "source": [
    "To start the exploration, I will import the May 2020 data file in as an object named `sdf`."
   ]
  },
  {
   "cell_type": "code",
   "execution_count": 96,
   "metadata": {},
   "outputs": [],
   "source": [
    "sdf = pd.read_csv('data/spotify_may2020.csv')"
   ]
  },
  {
   "cell_type": "markdown",
   "metadata": {},
   "source": [
    "## Preliminary Inspection\n",
    "What are the dimensions of my data set?"
   ]
  },
  {
   "cell_type": "code",
   "execution_count": 97,
   "metadata": {},
   "outputs": [
    {
     "data": {
      "text/plain": [
       "(2572, 29)"
      ]
     },
     "execution_count": 97,
     "metadata": {},
     "output_type": "execute_result"
    }
   ],
   "source": [
    "sdf.shape"
   ]
  },
  {
   "cell_type": "markdown",
   "metadata": {},
   "source": [
    "I have 29 variables/columns and 2572 observations.\n",
    "\n",
    "What are my column names? What are their data types?"
   ]
  },
  {
   "cell_type": "code",
   "execution_count": 95,
   "metadata": {},
   "outputs": [
    {
     "name": "stdout",
     "output_type": "stream",
     "text": [
      "<class 'pandas.core.frame.DataFrame'>\n",
      "RangeIndex: 208352 entries, 0 to 208351\n",
      "Data columns (total 28 columns):\n",
      " #   Column            Non-Null Count   Dtype  \n",
      "---  ------            --------------   -----  \n",
      " 0   Date              208352 non-null  object \n",
      " 1   Position          208352 non-null  int64  \n",
      " 2   Artist            208352 non-null  object \n",
      " 3   Streams           208352 non-null  int64  \n",
      " 4   Country           208352 non-null  object \n",
      " 5   Date2             208352 non-null  object \n",
      " 6   Title             208352 non-null  object \n",
      " 7   danceability      208352 non-null  float64\n",
      " 8   energy            208352 non-null  float64\n",
      " 9   key               208352 non-null  int64  \n",
      " 10  loudness          208352 non-null  float64\n",
      " 11  mode              208352 non-null  int64  \n",
      " 12  speechiness       208352 non-null  float64\n",
      " 13  acousticness      208352 non-null  float64\n",
      " 14  instrumentalness  208352 non-null  float64\n",
      " 15  liveness          208352 non-null  float64\n",
      " 16  valence           208352 non-null  float64\n",
      " 17  tempo             208352 non-null  float64\n",
      " 18  type              208352 non-null  object \n",
      " 19  id                208352 non-null  object \n",
      " 20  uri               208352 non-null  object \n",
      " 21  track_href        208352 non-null  object \n",
      " 22  analysis_url      208352 non-null  object \n",
      " 23  duration_ms       208352 non-null  int64  \n",
      " 24  time_signature    208352 non-null  int64  \n",
      " 25  genre             208352 non-null  object \n",
      " 26  Unnamed..0        0 non-null       float64\n",
      " 27  title             0 non-null       float64\n",
      "dtypes: float64(11), int64(6), object(11)\n",
      "memory usage: 44.5+ MB\n"
     ]
    }
   ],
   "source": [
    "sdf.info()"
   ]
  },
  {
   "cell_type": "markdown",
   "metadata": {},
   "source": [
    "The output from the command `info` gives me all the column names in my data set, as well as the number of observations within each column, whether there are any null values, and the data type of each column.\n",
    "\n",
    "Now, let's look at a small chunk of the data."
   ]
  },
  {
   "cell_type": "code",
   "execution_count": 27,
   "metadata": {
    "scrolled": true
   },
   "outputs": [
    {
     "data": {
      "text/html": [
       "<div>\n",
       "<style scoped>\n",
       "    .dataframe tbody tr th:only-of-type {\n",
       "        vertical-align: middle;\n",
       "    }\n",
       "\n",
       "    .dataframe tbody tr th {\n",
       "        vertical-align: top;\n",
       "    }\n",
       "\n",
       "    .dataframe thead th {\n",
       "        text-align: right;\n",
       "    }\n",
       "</style>\n",
       "<table border=\"1\" class=\"dataframe\">\n",
       "  <thead>\n",
       "    <tr style=\"text-align: right;\">\n",
       "      <th></th>\n",
       "      <th>Country</th>\n",
       "      <th>Continent</th>\n",
       "      <th>Rank</th>\n",
       "      <th>Title</th>\n",
       "      <th>Artists</th>\n",
       "      <th>Album</th>\n",
       "      <th>Explicit</th>\n",
       "      <th>Duration</th>\n",
       "      <th>danceability</th>\n",
       "      <th>energy</th>\n",
       "      <th>...</th>\n",
       "      <th>type</th>\n",
       "      <th>id</th>\n",
       "      <th>uri</th>\n",
       "      <th>track_href</th>\n",
       "      <th>analysis_url</th>\n",
       "      <th>duration_ms</th>\n",
       "      <th>time_signature</th>\n",
       "      <th>genre</th>\n",
       "      <th>Unnamed..0</th>\n",
       "      <th>title</th>\n",
       "    </tr>\n",
       "  </thead>\n",
       "  <tbody>\n",
       "    <tr>\n",
       "      <th>0</th>\n",
       "      <td>Global</td>\n",
       "      <td>Global</td>\n",
       "      <td>1</td>\n",
       "      <td>Rain On Me (with Ariana Grande)</td>\n",
       "      <td>Lady Gaga, Ariana Grande</td>\n",
       "      <td>Rain On Me (with Ariana Grande)</td>\n",
       "      <td>0</td>\n",
       "      <td>3:02</td>\n",
       "      <td>0.672</td>\n",
       "      <td>0.855</td>\n",
       "      <td>...</td>\n",
       "      <td>audio_features</td>\n",
       "      <td>24ySl2hOPGCDcxBxFIqWBu</td>\n",
       "      <td>spotify:track:24ySl2hOPGCDcxBxFIqWBu</td>\n",
       "      <td>https://api.spotify.com/v1/tracks/24ySl2hOPGCD...</td>\n",
       "      <td>https://api.spotify.com/v1/audio-analysis/24yS...</td>\n",
       "      <td>182200</td>\n",
       "      <td>4</td>\n",
       "      <td>Pop</td>\n",
       "      <td>NaN</td>\n",
       "      <td>NaN</td>\n",
       "    </tr>\n",
       "    <tr>\n",
       "      <th>1</th>\n",
       "      <td>Global</td>\n",
       "      <td>Global</td>\n",
       "      <td>2</td>\n",
       "      <td>Blinding Lights</td>\n",
       "      <td>The Weeknd</td>\n",
       "      <td>After Hours</td>\n",
       "      <td>0</td>\n",
       "      <td>3:20</td>\n",
       "      <td>0.518</td>\n",
       "      <td>0.727</td>\n",
       "      <td>...</td>\n",
       "      <td>audio_features</td>\n",
       "      <td>5Sg09MvHqNWPWsYeuY2toY</td>\n",
       "      <td>spotify:track:5Sg09MvHqNWPWsYeuY2toY</td>\n",
       "      <td>https://api.spotify.com/v1/tracks/5Sg09MvHqNWP...</td>\n",
       "      <td>https://api.spotify.com/v1/audio-analysis/5Sg0...</td>\n",
       "      <td>200046</td>\n",
       "      <td>4</td>\n",
       "      <td>RnB</td>\n",
       "      <td>NaN</td>\n",
       "      <td>NaN</td>\n",
       "    </tr>\n",
       "    <tr>\n",
       "      <th>2</th>\n",
       "      <td>Global</td>\n",
       "      <td>Global</td>\n",
       "      <td>2</td>\n",
       "      <td>Blinding Lights</td>\n",
       "      <td>The Weeknd</td>\n",
       "      <td>After Hours</td>\n",
       "      <td>0</td>\n",
       "      <td>3:20</td>\n",
       "      <td>0.513</td>\n",
       "      <td>0.796</td>\n",
       "      <td>...</td>\n",
       "      <td>audio_features</td>\n",
       "      <td>0sf12qNH5qcw8qpgymFOqD</td>\n",
       "      <td>spotify:track:0sf12qNH5qcw8qpgymFOqD</td>\n",
       "      <td>https://api.spotify.com/v1/tracks/0sf12qNH5qcw...</td>\n",
       "      <td>https://api.spotify.com/v1/audio-analysis/0sf1...</td>\n",
       "      <td>201573</td>\n",
       "      <td>4</td>\n",
       "      <td>Pop</td>\n",
       "      <td>NaN</td>\n",
       "      <td>NaN</td>\n",
       "    </tr>\n",
       "    <tr>\n",
       "      <th>3</th>\n",
       "      <td>Global</td>\n",
       "      <td>Global</td>\n",
       "      <td>3</td>\n",
       "      <td>ROCKSTAR (feat. Roddy Ricch)</td>\n",
       "      <td>DaBaby, Roddy Ricch</td>\n",
       "      <td>BLAME IT ON BABY</td>\n",
       "      <td>1</td>\n",
       "      <td>3:01</td>\n",
       "      <td>0.746</td>\n",
       "      <td>0.690</td>\n",
       "      <td>...</td>\n",
       "      <td>audio_features</td>\n",
       "      <td>7ytR5pFWmSjzHJIeQkgog4</td>\n",
       "      <td>spotify:track:7ytR5pFWmSjzHJIeQkgog4</td>\n",
       "      <td>https://api.spotify.com/v1/tracks/7ytR5pFWmSjz...</td>\n",
       "      <td>https://api.spotify.com/v1/audio-analysis/7ytR...</td>\n",
       "      <td>181733</td>\n",
       "      <td>4</td>\n",
       "      <td>Underground Rap</td>\n",
       "      <td>NaN</td>\n",
       "      <td>NaN</td>\n",
       "    </tr>\n",
       "    <tr>\n",
       "      <th>4</th>\n",
       "      <td>Global</td>\n",
       "      <td>Global</td>\n",
       "      <td>3</td>\n",
       "      <td>ROCKSTAR (feat. Roddy Ricch)</td>\n",
       "      <td>DaBaby, Roddy Ricch</td>\n",
       "      <td>BLAME IT ON BABY</td>\n",
       "      <td>1</td>\n",
       "      <td>3:01</td>\n",
       "      <td>0.746</td>\n",
       "      <td>0.690</td>\n",
       "      <td>...</td>\n",
       "      <td>audio_features</td>\n",
       "      <td>7ytR5pFWmSjzHJIeQkgog4</td>\n",
       "      <td>spotify:track:7ytR5pFWmSjzHJIeQkgog4</td>\n",
       "      <td>https://api.spotify.com/v1/tracks/7ytR5pFWmSjz...</td>\n",
       "      <td>https://api.spotify.com/v1/audio-analysis/7ytR...</td>\n",
       "      <td>181733</td>\n",
       "      <td>4</td>\n",
       "      <td>Rap</td>\n",
       "      <td>NaN</td>\n",
       "      <td>NaN</td>\n",
       "    </tr>\n",
       "  </tbody>\n",
       "</table>\n",
       "<p>5 rows × 29 columns</p>\n",
       "</div>"
      ],
      "text/plain": [
       "  Country Continent  Rank                            Title  \\\n",
       "0  Global    Global     1  Rain On Me (with Ariana Grande)   \n",
       "1  Global    Global     2                  Blinding Lights   \n",
       "2  Global    Global     2                  Blinding Lights   \n",
       "3  Global    Global     3     ROCKSTAR (feat. Roddy Ricch)   \n",
       "4  Global    Global     3     ROCKSTAR (feat. Roddy Ricch)   \n",
       "\n",
       "                    Artists                            Album  Explicit  \\\n",
       "0  Lady Gaga, Ariana Grande  Rain On Me (with Ariana Grande)         0   \n",
       "1                The Weeknd                      After Hours         0   \n",
       "2                The Weeknd                      After Hours         0   \n",
       "3       DaBaby, Roddy Ricch                 BLAME IT ON BABY         1   \n",
       "4       DaBaby, Roddy Ricch                 BLAME IT ON BABY         1   \n",
       "\n",
       "  Duration  danceability  energy  ...            type                      id  \\\n",
       "0     3:02         0.672   0.855  ...  audio_features  24ySl2hOPGCDcxBxFIqWBu   \n",
       "1     3:20         0.518   0.727  ...  audio_features  5Sg09MvHqNWPWsYeuY2toY   \n",
       "2     3:20         0.513   0.796  ...  audio_features  0sf12qNH5qcw8qpgymFOqD   \n",
       "3     3:01         0.746   0.690  ...  audio_features  7ytR5pFWmSjzHJIeQkgog4   \n",
       "4     3:01         0.746   0.690  ...  audio_features  7ytR5pFWmSjzHJIeQkgog4   \n",
       "\n",
       "                                    uri  \\\n",
       "0  spotify:track:24ySl2hOPGCDcxBxFIqWBu   \n",
       "1  spotify:track:5Sg09MvHqNWPWsYeuY2toY   \n",
       "2  spotify:track:0sf12qNH5qcw8qpgymFOqD   \n",
       "3  spotify:track:7ytR5pFWmSjzHJIeQkgog4   \n",
       "4  spotify:track:7ytR5pFWmSjzHJIeQkgog4   \n",
       "\n",
       "                                          track_href  \\\n",
       "0  https://api.spotify.com/v1/tracks/24ySl2hOPGCD...   \n",
       "1  https://api.spotify.com/v1/tracks/5Sg09MvHqNWP...   \n",
       "2  https://api.spotify.com/v1/tracks/0sf12qNH5qcw...   \n",
       "3  https://api.spotify.com/v1/tracks/7ytR5pFWmSjz...   \n",
       "4  https://api.spotify.com/v1/tracks/7ytR5pFWmSjz...   \n",
       "\n",
       "                                        analysis_url  duration_ms  \\\n",
       "0  https://api.spotify.com/v1/audio-analysis/24yS...       182200   \n",
       "1  https://api.spotify.com/v1/audio-analysis/5Sg0...       200046   \n",
       "2  https://api.spotify.com/v1/audio-analysis/0sf1...       201573   \n",
       "3  https://api.spotify.com/v1/audio-analysis/7ytR...       181733   \n",
       "4  https://api.spotify.com/v1/audio-analysis/7ytR...       181733   \n",
       "\n",
       "   time_signature            genre  Unnamed..0 title  \n",
       "0               4              Pop         NaN   NaN  \n",
       "1               4              RnB         NaN   NaN  \n",
       "2               4              Pop         NaN   NaN  \n",
       "3               4  Underground Rap         NaN   NaN  \n",
       "4               4              Rap         NaN   NaN  \n",
       "\n",
       "[5 rows x 29 columns]"
      ]
     },
     "execution_count": 27,
     "metadata": {},
     "output_type": "execute_result"
    }
   ],
   "source": [
    "sdf.head()"
   ]
  },
  {
   "cell_type": "markdown",
   "metadata": {},
   "source": [
    "From the `head` command, I get the first five rows of the data set. From this output, I am able to gain a better understanding of the structure of the data and the individual observations within."
   ]
  },
  {
   "cell_type": "markdown",
   "metadata": {},
   "source": [
    "## Subsetting the data\n",
    "As shown in the Preliminary Inspection, there are many variables within this data set. Thus, I am going to subset the data with only the variables I want to look at for the project. \n",
    "\n",
    "First, I am using the `list` command to get a list of all the column names."
   ]
  },
  {
   "cell_type": "code",
   "execution_count": 28,
   "metadata": {},
   "outputs": [
    {
     "data": {
      "text/plain": [
       "['Country',\n",
       " 'Continent',\n",
       " 'Rank',\n",
       " 'Title',\n",
       " 'Artists',\n",
       " 'Album',\n",
       " 'Explicit',\n",
       " 'Duration',\n",
       " 'danceability',\n",
       " 'energy',\n",
       " 'key',\n",
       " 'loudness',\n",
       " 'mode',\n",
       " 'speechiness',\n",
       " 'acousticness',\n",
       " 'instrumentalness',\n",
       " 'liveness',\n",
       " 'valence',\n",
       " 'tempo',\n",
       " 'type',\n",
       " 'id',\n",
       " 'uri',\n",
       " 'track_href',\n",
       " 'analysis_url',\n",
       " 'duration_ms',\n",
       " 'time_signature',\n",
       " 'genre',\n",
       " 'Unnamed..0',\n",
       " 'title']"
      ]
     },
     "execution_count": 28,
     "metadata": {},
     "output_type": "execute_result"
    }
   ],
   "source": [
    "list(sdf)"
   ]
  },
  {
   "cell_type": "markdown",
   "metadata": {},
   "source": [
    "Now that I have all the column names, I can create a new object `columns_to_keep` with the columns I intend to keep. Afterwards, I can edit my original data frame `sdf` to only include the kept columns."
   ]
  },
  {
   "cell_type": "code",
   "execution_count": 99,
   "metadata": {
    "scrolled": true
   },
   "outputs": [
    {
     "data": {
      "text/html": [
       "<div>\n",
       "<style scoped>\n",
       "    .dataframe tbody tr th:only-of-type {\n",
       "        vertical-align: middle;\n",
       "    }\n",
       "\n",
       "    .dataframe tbody tr th {\n",
       "        vertical-align: top;\n",
       "    }\n",
       "\n",
       "    .dataframe thead th {\n",
       "        text-align: right;\n",
       "    }\n",
       "</style>\n",
       "<table border=\"1\" class=\"dataframe\">\n",
       "  <thead>\n",
       "    <tr style=\"text-align: right;\">\n",
       "      <th></th>\n",
       "      <th>Country</th>\n",
       "      <th>Continent</th>\n",
       "      <th>Rank</th>\n",
       "      <th>Title</th>\n",
       "      <th>danceability</th>\n",
       "      <th>energy</th>\n",
       "      <th>key</th>\n",
       "      <th>loudness</th>\n",
       "      <th>mode</th>\n",
       "      <th>speechiness</th>\n",
       "      <th>acousticness</th>\n",
       "      <th>instrumentalness</th>\n",
       "      <th>liveness</th>\n",
       "      <th>valence</th>\n",
       "      <th>genre</th>\n",
       "    </tr>\n",
       "  </thead>\n",
       "  <tbody>\n",
       "    <tr>\n",
       "      <th>0</th>\n",
       "      <td>Global</td>\n",
       "      <td>Global</td>\n",
       "      <td>1</td>\n",
       "      <td>Rain On Me (with Ariana Grande)</td>\n",
       "      <td>0.672</td>\n",
       "      <td>0.855</td>\n",
       "      <td>9</td>\n",
       "      <td>-3.764</td>\n",
       "      <td>1</td>\n",
       "      <td>0.0397</td>\n",
       "      <td>0.02100</td>\n",
       "      <td>0.000000</td>\n",
       "      <td>0.3230</td>\n",
       "      <td>0.646</td>\n",
       "      <td>Pop</td>\n",
       "    </tr>\n",
       "    <tr>\n",
       "      <th>1</th>\n",
       "      <td>Global</td>\n",
       "      <td>Global</td>\n",
       "      <td>2</td>\n",
       "      <td>Blinding Lights</td>\n",
       "      <td>0.518</td>\n",
       "      <td>0.727</td>\n",
       "      <td>1</td>\n",
       "      <td>-5.947</td>\n",
       "      <td>1</td>\n",
       "      <td>0.0557</td>\n",
       "      <td>0.00153</td>\n",
       "      <td>0.000152</td>\n",
       "      <td>0.0882</td>\n",
       "      <td>0.342</td>\n",
       "      <td>RnB</td>\n",
       "    </tr>\n",
       "    <tr>\n",
       "      <th>2</th>\n",
       "      <td>Global</td>\n",
       "      <td>Global</td>\n",
       "      <td>2</td>\n",
       "      <td>Blinding Lights</td>\n",
       "      <td>0.513</td>\n",
       "      <td>0.796</td>\n",
       "      <td>1</td>\n",
       "      <td>-4.075</td>\n",
       "      <td>1</td>\n",
       "      <td>0.0629</td>\n",
       "      <td>0.00147</td>\n",
       "      <td>0.000209</td>\n",
       "      <td>0.0938</td>\n",
       "      <td>0.345</td>\n",
       "      <td>Pop</td>\n",
       "    </tr>\n",
       "    <tr>\n",
       "      <th>3</th>\n",
       "      <td>Global</td>\n",
       "      <td>Global</td>\n",
       "      <td>3</td>\n",
       "      <td>ROCKSTAR (feat. Roddy Ricch)</td>\n",
       "      <td>0.746</td>\n",
       "      <td>0.690</td>\n",
       "      <td>11</td>\n",
       "      <td>-7.956</td>\n",
       "      <td>1</td>\n",
       "      <td>0.1640</td>\n",
       "      <td>0.24700</td>\n",
       "      <td>0.000000</td>\n",
       "      <td>0.1010</td>\n",
       "      <td>0.497</td>\n",
       "      <td>Underground Rap</td>\n",
       "    </tr>\n",
       "    <tr>\n",
       "      <th>4</th>\n",
       "      <td>Global</td>\n",
       "      <td>Global</td>\n",
       "      <td>3</td>\n",
       "      <td>ROCKSTAR (feat. Roddy Ricch)</td>\n",
       "      <td>0.746</td>\n",
       "      <td>0.690</td>\n",
       "      <td>11</td>\n",
       "      <td>-7.956</td>\n",
       "      <td>1</td>\n",
       "      <td>0.1640</td>\n",
       "      <td>0.24700</td>\n",
       "      <td>0.000000</td>\n",
       "      <td>0.1010</td>\n",
       "      <td>0.497</td>\n",
       "      <td>Rap</td>\n",
       "    </tr>\n",
       "  </tbody>\n",
       "</table>\n",
       "</div>"
      ],
      "text/plain": [
       "  Country Continent  Rank                            Title  danceability  \\\n",
       "0  Global    Global     1  Rain On Me (with Ariana Grande)         0.672   \n",
       "1  Global    Global     2                  Blinding Lights         0.518   \n",
       "2  Global    Global     2                  Blinding Lights         0.513   \n",
       "3  Global    Global     3     ROCKSTAR (feat. Roddy Ricch)         0.746   \n",
       "4  Global    Global     3     ROCKSTAR (feat. Roddy Ricch)         0.746   \n",
       "\n",
       "   energy  key  loudness  mode  speechiness  acousticness  instrumentalness  \\\n",
       "0   0.855    9    -3.764     1       0.0397       0.02100          0.000000   \n",
       "1   0.727    1    -5.947     1       0.0557       0.00153          0.000152   \n",
       "2   0.796    1    -4.075     1       0.0629       0.00147          0.000209   \n",
       "3   0.690   11    -7.956     1       0.1640       0.24700          0.000000   \n",
       "4   0.690   11    -7.956     1       0.1640       0.24700          0.000000   \n",
       "\n",
       "   liveness  valence            genre  \n",
       "0    0.3230    0.646              Pop  \n",
       "1    0.0882    0.342              RnB  \n",
       "2    0.0938    0.345              Pop  \n",
       "3    0.1010    0.497  Underground Rap  \n",
       "4    0.1010    0.497              Rap  "
      ]
     },
     "execution_count": 99,
     "metadata": {},
     "output_type": "execute_result"
    }
   ],
   "source": [
    "## subset it\n",
    "columns_to_keep = ['Country',\n",
    " 'Continent',\n",
    " 'Rank',\n",
    " 'Title',\n",
    " 'danceability',\n",
    " 'energy',\n",
    " 'key',\n",
    " 'loudness',\n",
    " 'mode',\n",
    " 'speechiness',\n",
    " 'acousticness',\n",
    " 'instrumentalness',\n",
    " 'liveness',\n",
    " 'valence',\n",
    " 'genre']\n",
    "sdf = sdf[columns_to_keep]\n",
    "sdf.head()"
   ]
  },
  {
   "cell_type": "markdown",
   "metadata": {},
   "source": [
    "As shown in the output from the `head` command, the data have been cut down to only include the columns I subsetted."
   ]
  },
  {
   "cell_type": "markdown",
   "metadata": {},
   "source": [
    "## Removing Global rows\n",
    "In this data set, there are observations from the Global music charts on Spotify. Although this is interesting data, it could skew the rest of the data that revolves around specific countries. To fix this, I will be removing all rows with the 'Global' Country value."
   ]
  },
  {
   "cell_type": "code",
   "execution_count": 30,
   "metadata": {
    "scrolled": true
   },
   "outputs": [
    {
     "data": {
      "text/html": [
       "<div>\n",
       "<style scoped>\n",
       "    .dataframe tbody tr th:only-of-type {\n",
       "        vertical-align: middle;\n",
       "    }\n",
       "\n",
       "    .dataframe tbody tr th {\n",
       "        vertical-align: top;\n",
       "    }\n",
       "\n",
       "    .dataframe thead th {\n",
       "        text-align: right;\n",
       "    }\n",
       "</style>\n",
       "<table border=\"1\" class=\"dataframe\">\n",
       "  <thead>\n",
       "    <tr style=\"text-align: right;\">\n",
       "      <th></th>\n",
       "      <th>Country</th>\n",
       "      <th>Continent</th>\n",
       "      <th>Rank</th>\n",
       "      <th>Title</th>\n",
       "      <th>Artists</th>\n",
       "      <th>Album</th>\n",
       "      <th>Explicit</th>\n",
       "      <th>danceability</th>\n",
       "      <th>energy</th>\n",
       "      <th>key</th>\n",
       "      <th>...</th>\n",
       "      <th>mode</th>\n",
       "      <th>speechiness</th>\n",
       "      <th>acousticness</th>\n",
       "      <th>instrumentalness</th>\n",
       "      <th>liveness</th>\n",
       "      <th>valence</th>\n",
       "      <th>tempo</th>\n",
       "      <th>duration_ms</th>\n",
       "      <th>time_signature</th>\n",
       "      <th>genre</th>\n",
       "    </tr>\n",
       "  </thead>\n",
       "  <tbody>\n",
       "    <tr>\n",
       "      <th>81</th>\n",
       "      <td>Argentina</td>\n",
       "      <td>South America</td>\n",
       "      <td>9</td>\n",
       "      <td>Tattoo</td>\n",
       "      <td>Rauw Alejandro</td>\n",
       "      <td>Tattoo</td>\n",
       "      <td>0</td>\n",
       "      <td>0.566</td>\n",
       "      <td>0.766</td>\n",
       "      <td>2</td>\n",
       "      <td>...</td>\n",
       "      <td>1</td>\n",
       "      <td>0.0399</td>\n",
       "      <td>0.43100</td>\n",
       "      <td>0.000000</td>\n",
       "      <td>0.1010</td>\n",
       "      <td>0.547</td>\n",
       "      <td>168.005</td>\n",
       "      <td>233467</td>\n",
       "      <td>4</td>\n",
       "      <td>RnB</td>\n",
       "    </tr>\n",
       "    <tr>\n",
       "      <th>82</th>\n",
       "      <td>Argentina</td>\n",
       "      <td>South America</td>\n",
       "      <td>9</td>\n",
       "      <td>Tattoo</td>\n",
       "      <td>Rauw Alejandro</td>\n",
       "      <td>Tattoo</td>\n",
       "      <td>0</td>\n",
       "      <td>0.566</td>\n",
       "      <td>0.766</td>\n",
       "      <td>2</td>\n",
       "      <td>...</td>\n",
       "      <td>1</td>\n",
       "      <td>0.0399</td>\n",
       "      <td>0.43100</td>\n",
       "      <td>0.000000</td>\n",
       "      <td>0.1010</td>\n",
       "      <td>0.547</td>\n",
       "      <td>168.005</td>\n",
       "      <td>233467</td>\n",
       "      <td>4</td>\n",
       "      <td>RnB</td>\n",
       "    </tr>\n",
       "    <tr>\n",
       "      <th>83</th>\n",
       "      <td>Argentina</td>\n",
       "      <td>South America</td>\n",
       "      <td>11</td>\n",
       "      <td>Tusa</td>\n",
       "      <td>KAROL G, Nicki Minaj</td>\n",
       "      <td>Tusa</td>\n",
       "      <td>0</td>\n",
       "      <td>0.803</td>\n",
       "      <td>0.715</td>\n",
       "      <td>2</td>\n",
       "      <td>...</td>\n",
       "      <td>1</td>\n",
       "      <td>0.2980</td>\n",
       "      <td>0.29500</td>\n",
       "      <td>0.000134</td>\n",
       "      <td>0.0574</td>\n",
       "      <td>0.574</td>\n",
       "      <td>202.170</td>\n",
       "      <td>200960</td>\n",
       "      <td>4</td>\n",
       "      <td>Pop</td>\n",
       "    </tr>\n",
       "    <tr>\n",
       "      <th>84</th>\n",
       "      <td>Argentina</td>\n",
       "      <td>South America</td>\n",
       "      <td>19</td>\n",
       "      <td>Blinding Lights</td>\n",
       "      <td>The Weeknd</td>\n",
       "      <td>After Hours</td>\n",
       "      <td>0</td>\n",
       "      <td>0.518</td>\n",
       "      <td>0.727</td>\n",
       "      <td>1</td>\n",
       "      <td>...</td>\n",
       "      <td>1</td>\n",
       "      <td>0.0557</td>\n",
       "      <td>0.00153</td>\n",
       "      <td>0.000152</td>\n",
       "      <td>0.0882</td>\n",
       "      <td>0.342</td>\n",
       "      <td>170.962</td>\n",
       "      <td>200046</td>\n",
       "      <td>4</td>\n",
       "      <td>RnB</td>\n",
       "    </tr>\n",
       "    <tr>\n",
       "      <th>85</th>\n",
       "      <td>Argentina</td>\n",
       "      <td>South America</td>\n",
       "      <td>19</td>\n",
       "      <td>Blinding Lights</td>\n",
       "      <td>The Weeknd</td>\n",
       "      <td>After Hours</td>\n",
       "      <td>0</td>\n",
       "      <td>0.513</td>\n",
       "      <td>0.796</td>\n",
       "      <td>1</td>\n",
       "      <td>...</td>\n",
       "      <td>1</td>\n",
       "      <td>0.0629</td>\n",
       "      <td>0.00147</td>\n",
       "      <td>0.000209</td>\n",
       "      <td>0.0938</td>\n",
       "      <td>0.345</td>\n",
       "      <td>171.017</td>\n",
       "      <td>201573</td>\n",
       "      <td>4</td>\n",
       "      <td>Pop</td>\n",
       "    </tr>\n",
       "  </tbody>\n",
       "</table>\n",
       "<p>5 rows × 21 columns</p>\n",
       "</div>"
      ],
      "text/plain": [
       "      Country      Continent  Rank            Title               Artists  \\\n",
       "81  Argentina  South America     9           Tattoo        Rauw Alejandro   \n",
       "82  Argentina  South America     9           Tattoo        Rauw Alejandro   \n",
       "83  Argentina  South America    11             Tusa  KAROL G, Nicki Minaj   \n",
       "84  Argentina  South America    19  Blinding Lights            The Weeknd   \n",
       "85  Argentina  South America    19  Blinding Lights            The Weeknd   \n",
       "\n",
       "          Album  Explicit  danceability  energy  key  ...  mode  speechiness  \\\n",
       "81       Tattoo         0         0.566   0.766    2  ...     1       0.0399   \n",
       "82       Tattoo         0         0.566   0.766    2  ...     1       0.0399   \n",
       "83         Tusa         0         0.803   0.715    2  ...     1       0.2980   \n",
       "84  After Hours         0         0.518   0.727    1  ...     1       0.0557   \n",
       "85  After Hours         0         0.513   0.796    1  ...     1       0.0629   \n",
       "\n",
       "    acousticness  instrumentalness  liveness  valence    tempo  duration_ms  \\\n",
       "81       0.43100          0.000000    0.1010    0.547  168.005       233467   \n",
       "82       0.43100          0.000000    0.1010    0.547  168.005       233467   \n",
       "83       0.29500          0.000134    0.0574    0.574  202.170       200960   \n",
       "84       0.00153          0.000152    0.0882    0.342  170.962       200046   \n",
       "85       0.00147          0.000209    0.0938    0.345  171.017       201573   \n",
       "\n",
       "    time_signature  genre  \n",
       "81               4    RnB  \n",
       "82               4    RnB  \n",
       "83               4    Pop  \n",
       "84               4    RnB  \n",
       "85               4    Pop  \n",
       "\n",
       "[5 rows x 21 columns]"
      ]
     },
     "execution_count": 30,
     "metadata": {},
     "output_type": "execute_result"
    }
   ],
   "source": [
    "sdf = sdf[sdf.Country != 'Global']\n",
    "sdf.head()"
   ]
  },
  {
   "cell_type": "markdown",
   "metadata": {},
   "source": [
    "As shown in the output from the `head` command, the Global rows have now been removed."
   ]
  },
  {
   "cell_type": "markdown",
   "metadata": {},
   "source": [
    "## Genre Exploration\n",
    "The first variable I want to explore is genre. First, I will use `value_counts()` to see the counts within each genre type."
   ]
  },
  {
   "cell_type": "code",
   "execution_count": 31,
   "metadata": {},
   "outputs": [
    {
     "data": {
      "text/plain": [
       "Pop                897\n",
       "Rap                470\n",
       "Underground Rap    341\n",
       "Dark Trap          245\n",
       "RnB                232\n",
       "Hiphop             204\n",
       "Emo                 93\n",
       "Trap Metal           9\n",
       "Name: genre, dtype: int64"
      ]
     },
     "execution_count": 31,
     "metadata": {},
     "output_type": "execute_result"
    }
   ],
   "source": [
    "sdf['genre'].value_counts()"
   ]
  },
  {
   "cell_type": "markdown",
   "metadata": {},
   "source": [
    "The data set contains eight genres. The output from `value_counts()` lets us know how many observations are in each genre category.\n",
    "\n",
    "With this information, I am going to save it to a new object `genre_count`."
   ]
  },
  {
   "cell_type": "code",
   "execution_count": 32,
   "metadata": {},
   "outputs": [
    {
     "data": {
      "text/plain": [
       "Pop                897\n",
       "Rap                470\n",
       "Underground Rap    341\n",
       "Dark Trap          245\n",
       "RnB                232\n",
       "Hiphop             204\n",
       "Emo                 93\n",
       "Trap Metal           9\n",
       "Name: genre, dtype: int64"
      ]
     },
     "execution_count": 32,
     "metadata": {},
     "output_type": "execute_result"
    }
   ],
   "source": [
    "genre_count = sdf['genre'].value_counts()\n",
    "genre_count"
   ]
  },
  {
   "cell_type": "markdown",
   "metadata": {},
   "source": [
    "Next, I will convert the series into a data frame."
   ]
  },
  {
   "cell_type": "code",
   "execution_count": 33,
   "metadata": {},
   "outputs": [
    {
     "data": {
      "text/html": [
       "<div>\n",
       "<style scoped>\n",
       "    .dataframe tbody tr th:only-of-type {\n",
       "        vertical-align: middle;\n",
       "    }\n",
       "\n",
       "    .dataframe tbody tr th {\n",
       "        vertical-align: top;\n",
       "    }\n",
       "\n",
       "    .dataframe thead th {\n",
       "        text-align: right;\n",
       "    }\n",
       "</style>\n",
       "<table border=\"1\" class=\"dataframe\">\n",
       "  <thead>\n",
       "    <tr style=\"text-align: right;\">\n",
       "      <th></th>\n",
       "      <th>index</th>\n",
       "      <th>genre</th>\n",
       "    </tr>\n",
       "  </thead>\n",
       "  <tbody>\n",
       "    <tr>\n",
       "      <th>0</th>\n",
       "      <td>Pop</td>\n",
       "      <td>897</td>\n",
       "    </tr>\n",
       "    <tr>\n",
       "      <th>1</th>\n",
       "      <td>Rap</td>\n",
       "      <td>470</td>\n",
       "    </tr>\n",
       "    <tr>\n",
       "      <th>2</th>\n",
       "      <td>Underground Rap</td>\n",
       "      <td>341</td>\n",
       "    </tr>\n",
       "    <tr>\n",
       "      <th>3</th>\n",
       "      <td>Dark Trap</td>\n",
       "      <td>245</td>\n",
       "    </tr>\n",
       "    <tr>\n",
       "      <th>4</th>\n",
       "      <td>RnB</td>\n",
       "      <td>232</td>\n",
       "    </tr>\n",
       "    <tr>\n",
       "      <th>5</th>\n",
       "      <td>Hiphop</td>\n",
       "      <td>204</td>\n",
       "    </tr>\n",
       "    <tr>\n",
       "      <th>6</th>\n",
       "      <td>Emo</td>\n",
       "      <td>93</td>\n",
       "    </tr>\n",
       "    <tr>\n",
       "      <th>7</th>\n",
       "      <td>Trap Metal</td>\n",
       "      <td>9</td>\n",
       "    </tr>\n",
       "  </tbody>\n",
       "</table>\n",
       "</div>"
      ],
      "text/plain": [
       "             index  genre\n",
       "0              Pop    897\n",
       "1              Rap    470\n",
       "2  Underground Rap    341\n",
       "3        Dark Trap    245\n",
       "4              RnB    232\n",
       "5           Hiphop    204\n",
       "6              Emo     93\n",
       "7       Trap Metal      9"
      ]
     },
     "execution_count": 33,
     "metadata": {},
     "output_type": "execute_result"
    }
   ],
   "source": [
    "genre_count = genre_count.reset_index()\n",
    "genre_count"
   ]
  },
  {
   "cell_type": "markdown",
   "metadata": {},
   "source": [
    "Now that I have a new data frame with the genre counts, I will rename the column names."
   ]
  },
  {
   "cell_type": "code",
   "execution_count": 34,
   "metadata": {},
   "outputs": [
    {
     "data": {
      "text/html": [
       "<div>\n",
       "<style scoped>\n",
       "    .dataframe tbody tr th:only-of-type {\n",
       "        vertical-align: middle;\n",
       "    }\n",
       "\n",
       "    .dataframe tbody tr th {\n",
       "        vertical-align: top;\n",
       "    }\n",
       "\n",
       "    .dataframe thead th {\n",
       "        text-align: right;\n",
       "    }\n",
       "</style>\n",
       "<table border=\"1\" class=\"dataframe\">\n",
       "  <thead>\n",
       "    <tr style=\"text-align: right;\">\n",
       "      <th></th>\n",
       "      <th>genre</th>\n",
       "      <th>count</th>\n",
       "    </tr>\n",
       "  </thead>\n",
       "  <tbody>\n",
       "    <tr>\n",
       "      <th>0</th>\n",
       "      <td>Pop</td>\n",
       "      <td>897</td>\n",
       "    </tr>\n",
       "    <tr>\n",
       "      <th>1</th>\n",
       "      <td>Rap</td>\n",
       "      <td>470</td>\n",
       "    </tr>\n",
       "    <tr>\n",
       "      <th>2</th>\n",
       "      <td>Underground Rap</td>\n",
       "      <td>341</td>\n",
       "    </tr>\n",
       "    <tr>\n",
       "      <th>3</th>\n",
       "      <td>Dark Trap</td>\n",
       "      <td>245</td>\n",
       "    </tr>\n",
       "    <tr>\n",
       "      <th>4</th>\n",
       "      <td>RnB</td>\n",
       "      <td>232</td>\n",
       "    </tr>\n",
       "    <tr>\n",
       "      <th>5</th>\n",
       "      <td>Hiphop</td>\n",
       "      <td>204</td>\n",
       "    </tr>\n",
       "    <tr>\n",
       "      <th>6</th>\n",
       "      <td>Emo</td>\n",
       "      <td>93</td>\n",
       "    </tr>\n",
       "    <tr>\n",
       "      <th>7</th>\n",
       "      <td>Trap Metal</td>\n",
       "      <td>9</td>\n",
       "    </tr>\n",
       "  </tbody>\n",
       "</table>\n",
       "</div>"
      ],
      "text/plain": [
       "             genre  count\n",
       "0              Pop    897\n",
       "1              Rap    470\n",
       "2  Underground Rap    341\n",
       "3        Dark Trap    245\n",
       "4              RnB    232\n",
       "5           Hiphop    204\n",
       "6              Emo     93\n",
       "7       Trap Metal      9"
      ]
     },
     "execution_count": 34,
     "metadata": {},
     "output_type": "execute_result"
    }
   ],
   "source": [
    "# current columns as a list\n",
    "genre_count.columns.to_list()\n",
    "\n",
    "# rename\n",
    "genre_count.columns = ['genre', 'count']\n",
    "genre_count"
   ]
  },
  {
   "cell_type": "markdown",
   "metadata": {},
   "source": [
    "Through the above code, I have successfully renamed the column names to 'genre' and 'count' for better understanding.\n",
    "\n",
    "With this data frame, I can create some visuals, starting off with a simple `plot` command."
   ]
  },
  {
   "cell_type": "code",
   "execution_count": 35,
   "metadata": {},
   "outputs": [
    {
     "data": {
      "text/plain": [
       "<matplotlib.axes._subplots.AxesSubplot at 0x7fd16f34dd00>"
      ]
     },
     "execution_count": 35,
     "metadata": {},
     "output_type": "execute_result"
    },
    {
     "data": {
      "image/png": "[encoded data removed]",
      "text/plain": [
       "<Figure size 432x288 with 1 Axes>"
      ]
     },
     "metadata": {
      "needs_background": "light"
     },
     "output_type": "display_data"
    }
   ],
   "source": [
    "# quick plot\n",
    "genre_count.plot()"
   ]
  },
  {
   "cell_type": "markdown",
   "metadata": {},
   "source": [
    "Although that plot is cool, I can get much more information from a bar plot."
   ]
  },
  {
   "cell_type": "code",
   "execution_count": 38,
   "metadata": {},
   "outputs": [
    {
     "data": {
      "text/plain": [
       "<matplotlib.axes._subplots.AxesSubplot at 0x7fd16f1ffb50>"
      ]
     },
     "execution_count": 38,
     "metadata": {},
     "output_type": "execute_result"
    },
    {
     "data": {
      "image/png": "[encoded data removed]",
      "text/plain": [
       "<Figure size 432x288 with 1 Axes>"
      ]
     },
     "metadata": {
      "needs_background": "light"
     },
     "output_type": "display_data"
    }
   ],
   "source": [
    "# Bar Plot\n",
    "genre_count.plot.bar(x = 'genre', y = 'count', title = 'Number of top songs per genre')"
   ]
  },
  {
   "cell_type": "markdown",
   "metadata": {},
   "source": [
    "In the above bar plot, I am able to see the number of top songs within each genre category. "
   ]
  },
  {
   "cell_type": "markdown",
   "metadata": {},
   "source": [
    "## Plotting Song Characteristics\n",
    "Other than genre, I also want to explore the distribution of the various song characteristics given in the data set. These include danceability, energy, loudness, speechiness, acousticness, instrumentalness, liveness, and valence. In the following code, I will create multiple histograms that plot each of these variables, starting with danceability and energy."
   ]
  },
  {
   "cell_type": "code",
   "execution_count": 74,
   "metadata": {},
   "outputs": [
    {
     "data": {
      "text/plain": [
       "Text(0.5, 1.0, 'energy')"
      ]
     },
     "execution_count": 74,
     "metadata": {},
     "output_type": "execute_result"
    },
    {
     "data": {
      "image/png": "[encoded data removed]",
      "text/plain": [
       "<Figure size 1080x864 with 2 Axes>"
      ]
     },
     "metadata": {
      "needs_background": "light"
     },
     "output_type": "display_data"
    }
   ],
   "source": [
    "# create the 1x2 subplots\n",
    "fig, axs = plt.subplots(1, 2, figsize = (15,12))\n",
    "\n",
    "# name each subplot\n",
    "ax1, ax2 = axs\n",
    "\n",
    "# danceability plot\n",
    "sdf['danceability'].plot.hist(bins=50, ax=ax1)\n",
    "\n",
    "ax1.set_title(\"danceability\")\n",
    "\n",
    "# energy plot\n",
    "sdf['energy'].plot.hist(bins=50, ax=ax2)\n",
    "\n",
    "ax2.set_title(\"energy\")"
   ]
  },
  {
   "cell_type": "markdown",
   "metadata": {},
   "source": [
    "Within the top songs during May 2020, there seems to be a preference for songs with mid to high danceability and energy.\n",
    "\n",
    "Next, loudness and speechiness."
   ]
  },
  {
   "cell_type": "code",
   "execution_count": 73,
   "metadata": {},
   "outputs": [
    {
     "data": {
      "text/plain": [
       "Text(0.5, 1.0, 'speechiness')"
      ]
     },
     "execution_count": 73,
     "metadata": {},
     "output_type": "execute_result"
    },
    {
     "data": {
      "image/png": "[encoded data removed]",
      "text/plain": [
       "<Figure size 1080x864 with 2 Axes>"
      ]
     },
     "metadata": {
      "needs_background": "light"
     },
     "output_type": "display_data"
    }
   ],
   "source": [
    "# create the 1x2 subplots\n",
    "fig, axs = plt.subplots(1, 2, figsize = (15,12))\n",
    "\n",
    "# name each subplot\n",
    "ax1, ax2 = axs\n",
    "\n",
    "# loudness plot\n",
    "sdf['loudness'].plot.hist(bins=50, ax=ax1)\n",
    "\n",
    "ax1.set_title(\"loudness\")\n",
    "\n",
    "# speechiness plot\n",
    "sdf['speechiness'].plot.hist(bins=50, ax=ax2)\n",
    "\n",
    "ax2.set_title(\"speechiness\")"
   ]
  },
  {
   "cell_type": "markdown",
   "metadata": {},
   "source": [
    "Within the top songs during May 2020, there seems to be a preference for songs with mid to high loudness and songs with low speechiness.\n",
    "\n",
    "Next, acousticness and instrumentalness."
   ]
  },
  {
   "cell_type": "code",
   "execution_count": 78,
   "metadata": {
    "scrolled": true
   },
   "outputs": [
    {
     "data": {
      "text/plain": [
       "Text(0.5, 1.0, 'instrumentalness')"
      ]
     },
     "execution_count": 78,
     "metadata": {},
     "output_type": "execute_result"
    },
    {
     "data": {
      "image/png": "[encoded data removed]",
      "text/plain": [
       "<Figure size 1080x864 with 2 Axes>"
      ]
     },
     "metadata": {
      "needs_background": "light"
     },
     "output_type": "display_data"
    }
   ],
   "source": [
    "# create the 1x2 subplots\n",
    "fig, axs = plt.subplots(1, 2, figsize = (15,12))\n",
    "\n",
    "# name each subplot\n",
    "ax1, ax2 = axs\n",
    "\n",
    "# acousticness plot\n",
    "sdf['acousticness'].plot.hist(bins=50, ax=ax1)\n",
    "\n",
    "ax1.set_title(\"acousticness\")\n",
    "\n",
    "# instrumentalness plot\n",
    "sdf['instrumentalness'].plot.hist(bins=50, ax=ax2)\n",
    "\n",
    "ax2.set_title(\"instrumentalness\")"
   ]
  },
  {
   "cell_type": "markdown",
   "metadata": {},
   "source": [
    "Within the top songs during May 2020, there seems to be a preference for songs with low acousticness. A majority of the top songs have zero instrumentalness, meaning that they all have vocals/lyrics.\n",
    "\n",
    "Finally, liveness and valence. For context, valence describes the musical positiveness conveyed by a track. Tracks with high valence sound more positive (happy, cheerful, euphoric), while tracks with low valence sound more negative (sad, depressed, angry)."
   ]
  },
  {
   "cell_type": "code",
   "execution_count": 79,
   "metadata": {},
   "outputs": [
    {
     "data": {
      "text/plain": [
       "Text(0.5, 1.0, 'valence')"
      ]
     },
     "execution_count": 79,
     "metadata": {},
     "output_type": "execute_result"
    },
    {
     "data": {
      "image/png": "[encoded data removed]",
      "text/plain": [
       "<Figure size 1080x864 with 2 Axes>"
      ]
     },
     "metadata": {
      "needs_background": "light"
     },
     "output_type": "display_data"
    }
   ],
   "source": [
    "# create the 1x2 subplots\n",
    "fig, axs = plt.subplots(1, 2, figsize = (15,12))\n",
    "\n",
    "# name each subplot\n",
    "ax1, ax2 = axs\n",
    "\n",
    "# liveness plot\n",
    "sdf['liveness'].plot.hist(bins=50, ax=ax1)\n",
    "\n",
    "ax1.set_title(\"liveness\")\n",
    "\n",
    "# valence plot\n",
    "sdf['valence'].plot.hist(bins=50, ax=ax2)\n",
    "\n",
    "ax2.set_title(\"valence\")"
   ]
  },
  {
   "cell_type": "markdown",
   "metadata": {},
   "source": [
    "Within the top songs during May 2020, there seems to be a preference for songs with low liveness. The distribution for valence is quite random, indicating that it is not a large factor in determining whether a song would be popular.\n",
    "\n",
    "### Final Thoughts and Future Goals\n",
    "Overall, I feel that I have a much better idea now of what the data set contains. In the future, I hope to create maps that show the density of certain song characteristics between different countries. At this point, I am not sure how to create maps from a .csv file, but I hope to learn either in class, through office hours, or just through the internet and trail and error."
   ]
  },
  {
   "cell_type": "code",
   "execution_count": null,
   "metadata": {},
   "outputs": [],
   "source": []
  }
 ],
 "metadata": {
  "kernelspec": {
   "display_name": "Python 3",
   "language": "python",
   "name": "python3"
  },
  "language_info": {
   "codemirror_mode": {
    "name": "ipython",
    "version": 3
   },
   "file_extension": ".py",
   "mimetype": "text/x-python",
   "name": "python",
   "nbconvert_exporter": "python",
   "pygments_lexer": "ipython3",
   "version": "3.8.5"
  },
  "toc": {
   "base_numbering": 1,
   "nav_menu": {},
   "number_sections": true,
   "sideBar": true,
   "skip_h1_title": false,
   "title_cell": "Table of Contents",
   "title_sidebar": "Contents",
   "toc_cell": false,
   "toc_position": {},
   "toc_section_display": true,
   "toc_window_display": false
  }
 },
 "nbformat": 4,
 "nbformat_minor": 4
}
